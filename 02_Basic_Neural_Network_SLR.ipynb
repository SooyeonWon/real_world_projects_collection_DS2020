{
 "cells": [
  {
   "cell_type": "markdown",
   "metadata": {},
   "source": [
    "# 2. Basic Neural Network Example \n",
    "#### by Sooyeon Won \n",
    "\n",
    "\n",
    "### Keywords \n",
    "- Generate data using numpy\n",
    "- Simple Linear Regression\n",
    "- 3D Plot for training data\n",
    "\n",
    "### Contents \n",
    "\n",
    "<ul>\n",
    "<li><a href=\"#libraries\">1.  Import the relevant libraries</a></li>\n",
    "<li><a href=\"#input\">2.  Generate random input data</a></li>\n",
    "<li><a href=\"#targets\">3.  Generate the targets</a></li>\n",
    "<li><a href=\"#Plot\">4.  Plot the training data</a></li>\n",
    "<li><a href=\"#Initialize\">5.  Initialize variables</a></li>\n",
    "<li><a href=\"#learning\">6.  Set a learning rate</a></li>\n",
    "<li><a href=\"#Train\">7.  Train the model</a></li>\n",
    "<li><a href=\"#Check\">8.  Check weights and biases</a></li>\n",
    "<li><a href=\"#Plot2\">9.  Plot last outputs vs targets</a></li>\n",
    "</ul>\n",
    "\n",
    "\n",
    "\n",
    "\n"
   ]
  },
  {
   "cell_type": "markdown",
   "metadata": {},
   "source": [
    "<a id='libraries'></a>\n",
    "### 1. Import the relevant libraries"
   ]
  },
  {
   "cell_type": "code",
   "execution_count": 1,
   "metadata": {},
   "outputs": [],
   "source": [
    "# To generate data \n",
    "import numpy as np\n",
    "\n",
    "# To visualize outputs and targets\n",
    "import matplotlib.pyplot as plt\n",
    "from mpl_toolkits.mplot3d import Axes3D"
   ]
  },
  {
   "cell_type": "markdown",
   "metadata": {},
   "source": [
    "<a id='input'></a>\n",
    "### 2. Generate random input data to train on"
   ]
  },
  {
   "cell_type": "code",
   "execution_count": 2,
   "metadata": {
    "scrolled": true
   },
   "outputs": [
    {
     "name": "stdout",
     "output_type": "stream",
     "text": [
      "(1000, 2)\n"
     ]
    }
   ],
   "source": [
    "# Assign the size of training data\n",
    "observations = 1000\n",
    "\n",
    "# Generate 2 input variables: xs, zs\n",
    "xs = np.random.uniform(low=-10, high=10, size=(observations,1))\n",
    "zs = np.random.uniform(-10, 10, (observations,1))\n",
    "\n",
    "# Combine the 2 input vectors into one matrix (1000 x 2)\n",
    "inputs = np.column_stack((xs,zs))\n",
    "\n",
    "# Check the dimensions \n",
    "print (inputs.shape)"
   ]
  },
  {
   "cell_type": "markdown",
   "metadata": {},
   "source": [
    "> **Comments:** Firstly, I declared a variable ('observations'), which indicates the size of the training set that I want to generate. For this basic example, I generated 2 input variable, and named xs, xz. The variables are generated randomly and uniformly distributed. So, you can understand that the size of xs and zs is a vector of 1000(observations) x 1. Then I stacked the two dimensions (i.e. the input vectors) into one input matrix, using numpy method. Finally, I check the dimension of the input matrix. Input matrix is usally a (n x k) matrix, where n is the number of observations, and k is the number of variables. Therefore, the size of the matrix is 1000 x 2. \n"
   ]
  },
  {
   "cell_type": "markdown",
   "metadata": {},
   "source": [
    "<a id='targets'></a>\n",
    "### 3. Generate the targets we will aim at"
   ]
  },
  {
   "cell_type": "code",
   "execution_count": 3,
   "metadata": {},
   "outputs": [
    {
     "name": "stdout",
     "output_type": "stream",
     "text": [
      "(1000, 1)\n"
     ]
    }
   ],
   "source": [
    "# Generate a random noise \n",
    "noise = np.random.uniform(-1, 1, (observations,1))\n",
    "\n",
    "# Produce the target according to the aboce defined noise. \n",
    "targets = 2*xs - 3*zs + 5 + noise\n",
    "\n",
    "\n",
    "print (targets.shape)"
   ]
  },
  {
   "cell_type": "markdown",
   "metadata": {},
   "source": [
    "> **Comments:**  \n",
    ">- Since I want to \"make up\" a function, use the ML methodology, and see if the algorithm has learned it, so I generate a small random noise to the function. \n",
    "       f(x,z) = 2x - 3z + 5 + noise.\n",
    ">- Then I produced the \"artifical\" targets according to the f(x,z) definition. In this way, we can consider that the weights should be 2 and -3, while the bias is 5.\n",
    ">- Finally, I recheck the shape of the targets. It should be n x 1, since we have only one the number of output variables, so 1000 x 1."
   ]
  },
  {
   "cell_type": "markdown",
   "metadata": {},
   "source": [
    "<a id='Plot'></a>\n",
    "### 4. Plot the training data\n",
    "The point is to see that there is a strong trend that our model should learn to reproduce."
   ]
  },
  {
   "cell_type": "code",
   "execution_count": 4,
   "metadata": {
    "scrolled": false
   },
   "outputs": [
    {
     "data": {
      "image/png": "[encoded data removed]",
      "text/plain": [
       "<Figure size 432x288 with 1 Axes>"
      ]
     },
     "metadata": {
      "needs_background": "light"
     },
     "output_type": "display_data"
    }
   ],
   "source": [
    "# Reshape the targets and inputs\n",
    "targets = targets.reshape(observations,)\n",
    "xs = xs.reshape(observations,)\n",
    "zs = zs.reshape(observations,)\n",
    "\n",
    "\n",
    "# Declare the figure\n",
    "fig = plt.figure()\n",
    "\n",
    "# Create the 3D plot\n",
    "ax = fig.add_subplot(111, projection='3d')\n",
    "\n",
    "# Choose the axes.\n",
    "ax.plot(xs, zs, targets)\n",
    "\n",
    "# Set labels\n",
    "ax.set_xlabel('xs')\n",
    "ax.set_ylabel('zs')\n",
    "ax.set_zlabel('Targets')\n",
    "\n",
    "# The azim parameter is to plot the data from different angles. \n",
    "ax.view_init(azim=100)\n",
    "\n",
    "plt.show()"
   ]
  },
  {
   "cell_type": "code",
   "execution_count": 5,
   "metadata": {},
   "outputs": [],
   "source": [
    "# Reshape the targets back\n",
    "targets = targets.reshape(observations,1)"
   ]
  },
  {
   "cell_type": "markdown",
   "metadata": {},
   "source": [
    ">**Comments:** \n",
    ">- In order to use the 3D plot, the objects should have a certain shape. Therefore, we reshape the targets and two inputs. The proper method to use is reshape and takes as arguments the dimensions in which we want to fit the object.\n",
    ">- Finally I reshape the targets back to the shape that they were in before plotting. The inital reshaping is only for the 3D plot."
   ]
  },
  {
   "cell_type": "markdown",
   "metadata": {},
   "source": [
    "<a id='Initialize'></a>\n",
    "### 5. Initialize variables"
   ]
  },
  {
   "cell_type": "code",
   "execution_count": 6,
   "metadata": {},
   "outputs": [
    {
     "name": "stdout",
     "output_type": "stream",
     "text": [
      "[[0.0067709 ]\n",
      " [0.07125344]]\n",
      "[0.06282059]\n"
     ]
    }
   ],
   "source": [
    "# Set an initial value \n",
    "init_range = 0.1\n",
    "\n",
    "weights = np.random.uniform(low=-init_range, high=init_range, size=(2, 1))\n",
    "\n",
    "biases = np.random.uniform(low=-init_range, high=init_range, size=1)\n",
    "\n",
    "# Get a sense of how they were initialized I printed the weights and biases. \n",
    "print (weights)\n",
    "print (biases)"
   ]
  },
  {
   "cell_type": "markdown",
   "metadata": {},
   "source": [
    ">**Comments:** \n",
    ">- I initialized the weights and biases randomly in some small initial range. 'init_range' is the variable that will measure that. Note that high initial ranges may prevent the machine learning algorithm from learning, so I started with 0.1. \n",
    ">-  Weights are of size k x m, where k is the number of input variables and m is the number of output variables. In this case, the weights matrix is 2x1 since there are 2 inputs (x and z) and one output (y). \n",
    ">- Biases are of size 1 since there is only 1 output. The bias is a scalar."
   ]
  },
  {
   "cell_type": "markdown",
   "metadata": {},
   "source": [
    "<a id='learning'></a>\n",
    "### 6. Set a learning rate"
   ]
  },
  {
   "cell_type": "code",
   "execution_count": 7,
   "metadata": {},
   "outputs": [],
   "source": [
    "# Set a learning rate\n",
    "learning_rate = 0.02"
   ]
  },
  {
   "cell_type": "markdown",
   "metadata": {},
   "source": [
    "<a id='Train'></a>\n",
    "### 7. Train the model"
   ]
  },
  {
   "cell_type": "code",
   "execution_count": 8,
   "metadata": {
    "scrolled": false
   },
   "outputs": [
    {
     "name": "stdout",
     "output_type": "stream",
     "text": [
      "220.03066382145695\n",
      "39.40170492988188\n",
      "15.132583834893733\n",
      "11.537294460672046\n",
      "10.690884017032015\n",
      "10.222874034294078\n",
      "9.81902835214222\n",
      "9.437179870295738\n",
      "9.071207657949948\n",
      "8.719788373029402\n",
      "8.38225509291725\n",
      "8.05804740341528\n",
      "7.7466376609481316\n",
      "7.44752046530002\n",
      "7.160210554527674\n",
      "6.884241846851181\n",
      "6.619166661826918\n",
      "6.3645549910862105\n",
      "6.119993800366879\n",
      "5.885086359430035\n",
      "5.659451598472135\n",
      "5.44272348994781\n",
      "5.234550454795226\n",
      "5.03459479210012\n",
      "4.842532131273114\n",
      "4.658050905851674\n",
      "4.480851848073071\n",
      "4.310647503398466\n",
      "4.147161764200534\n",
      "3.990129421858209\n",
      "3.8392957365319114\n",
      "3.6944160239213995\n",
      "3.555255258335799\n",
      "3.421587691431988\n",
      "3.293196486002796\n",
      "3.169873364220954\n",
      "3.0514182697681917\n",
      "2.9376390433013593\n",
      "2.82835111072913\n",
      "2.7233771837935823\n",
      "2.6225469724709685\n",
      "2.5256969087250876\n",
      "2.4326698811651712\n",
      "2.3433149801778046\n",
      "2.257487253119453\n",
      "2.175047469172467\n",
      "2.095861893483093\n",
      "2.0198020702151256\n",
      "1.9467446141672191\n",
      "1.876571010615874\n",
      "1.8091674230593573\n",
      "1.7444245085507026\n",
      "1.6822372403202037\n",
      "1.6225047373996733\n",
      "1.5651301009720588\n",
      "1.5100202571809769\n",
      "1.4570858061451235\n",
      "1.4062408769326642\n",
      "1.3574029882603322\n",
      "1.3104929146912567\n",
      "1.2654345581144508\n",
      "1.2221548242975144\n",
      "1.1805835043122435\n",
      "1.1406531606408215\n",
      "1.1022990177778422\n",
      "1.0654588571506567\n",
      "1.0300729161876316\n",
      "0.9960837913705523\n",
      "0.9634363451139112\n",
      "0.9320776163200265\n",
      "0.9019567344648853\n",
      "0.873024837075334\n",
      "0.8452349904637682\n",
      "0.8185421135917079\n",
      "0.792902904938773\n",
      "0.7682757722584141\n",
      "0.7446207651064458\n",
      "0.7218995100329318\n",
      "0.7000751483322972\n",
      "0.6791122762506677\n",
      "0.6589768875534586\n",
      "0.6396363183600329\n",
      "0.6210591941559428\n",
      "0.6032153788967973\n",
      "0.5860759261211962\n",
      "0.5696130319934102\n",
      "0.5537999901996541\n",
      "0.5386111486247673\n",
      "0.524021867739031\n",
      "0.5100084806276093\n",
      "0.496548254597791\n",
      "0.48361935430171815\n",
      "0.47120080631482336\n",
      "0.45927246511246417\n",
      "0.4478149803896103\n",
      "0.4368097656705272\n",
      "0.42623896815756734\n",
      "0.4160854397701353\n",
      "0.4063327093268549\n",
      "0.3969649558258149\n"
     ]
    }
   ],
   "source": [
    "for i in range (100):\n",
    "    \n",
    "    # This is the linear model: y = xw + b equation. \n",
    "    outputs = np.dot(inputs,weights) + biases\n",
    "    \n",
    "    # The deltas are the differences between the outputs and the targets\n",
    "    deltas = outputs - targets\n",
    "        \n",
    "    # Loss Function: L2-norm\n",
    "    loss = np.sum(deltas ** 2) / 2 / observations\n",
    "    \n",
    "    # Loss Function: L1-norm\n",
    "    #loss = np.sum(np.absolute(deltas)) / 2 / observations\n",
    "    \n",
    "    # Print the values from loss function values\n",
    "    print (loss)\n",
    "    \n",
    "    # Rescale the deltas\n",
    "    deltas_scaled = deltas / observations\n",
    "\n",
    "    # Update the weights and biases, by applying the gradient descent rules\n",
    "    weights = weights - learning_rate * np.dot(inputs.T,deltas_scaled)\n",
    "    biases = biases - learning_rate * np.sum(deltas_scaled)\n"
   ]
  },
  {
   "cell_type": "markdown",
   "metadata": {},
   "source": [
    ">**Comments:** \n",
    ">- I iterated over the training dataset 100 times. That works well with a learning rate of 0.02. In general, a lower learning rate would need more iterations, while a higher learning rate would need less iterations. Note that a high learning rate may cause the loss to diverge to infinity, instead of converge to 0.\n",
    ">- The deltas mean residuals, which are the differences between the outputs and the targets. The size of its vector is 1000 x 1. \n",
    ">- I am considering the L2-norm loss, but divided by 2 and by the number of observations. Since this is simple rescaling by a constant, this doesn't change the optimization logic, as any function holding the basic property of being lower for better results, and higher for worse results can be a loss function.\n",
    "\n",
    "#### $$ L(y, t) =  \\frac{L2-norm}{2} = \\frac{\\Sigma_i(y_i-t_i)²}{2}   $$"
   ]
  },
  {
   "cell_type": "markdown",
   "metadata": {},
   "source": [
    "\n",
    ">- Then I printted the values from the loss function iterations at each step so we can observe whether it is decreasing as desired.\n",
    ">- As recommended from the lecture, another small trick is to scale the deltas the same way as the loss function. In this way, the learning rate is independent of the number of samples (observations). Again, this doesn't change anything in principle, it simply makes it easier to pick a single learning rate, that can remain the same if we change the number of training samples (observations). Surely, the rescaling is not necessary to solve the problem.\n",
    ">- The I applied the gradient descent rules to update weights and biases. The weights are 2x1, learning rate is 1x1 (scalar), inputs are 1000x2, and deltas_scaled are 1000x1. The inputs must be transposted to get an allowed operation.\n",
    ">- Finally, the weights are updated in a linear algebraic way (a matrix minus another matrix). However, the biases are just a single number here, so we must transform the deltas into a scalar. The two lines are both consistent with the gradient descent method. "
   ]
  },
  {
   "cell_type": "markdown",
   "metadata": {},
   "source": [
    "<a id='Check'></a>\n",
    "### 8. Print weights and biases and see if we have worked correctly."
   ]
  },
  {
   "cell_type": "code",
   "execution_count": 9,
   "metadata": {},
   "outputs": [
    {
     "name": "stdout",
     "output_type": "stream",
     "text": [
      "[[ 1.99821931]\n",
      " [-2.9921009 ]] [4.32955127]\n"
     ]
    }
   ],
   "source": [
    "print (weights, biases)\n",
    "\n",
    "# Note that they may be convergING. So more iterations are needed."
   ]
  },
  {
   "cell_type": "markdown",
   "metadata": {},
   "source": [
    ">**Comments:**  To see if the weights and the biases are converged to what I wanted, I print both of them. When declared the targets, following the f(x,z) at the beginning, we knew the weights should be 2 and -3, while the bias: 5."
   ]
  },
  {
   "cell_type": "markdown",
   "metadata": {},
   "source": [
    "<a id='Plot2'></a>\n",
    "### 9. Plot last outputs vs targets\n",
    "Since they are the last ones at the end of the training, they represent the final model accuracy. <br/>\n",
    "The closer this plot is to a 45 degree line, the closer target and output values are.\n"
   ]
  },
  {
   "cell_type": "code",
   "execution_count": 10,
   "metadata": {
    "scrolled": false
   },
   "outputs": [
    {
     "data": {
      "image/png": "[encoded data removed]",
      "text/plain": [
       "<Figure size 432x288 with 1 Axes>"
      ]
     },
     "metadata": {
      "needs_background": "light"
     },
     "output_type": "display_data"
    }
   ],
   "source": [
    "# Print the outputs and the targets in order to see if they have a linear relationship. \n",
    "plt.plot(outputs,targets)\n",
    "plt.xlabel('outputs')\n",
    "plt.ylabel('targets')\n",
    "plt.show()"
   ]
  },
  {
   "cell_type": "markdown",
   "metadata": {},
   "source": [
    "### Further Practices using  L1-norm loss\n",
    "\n",
    "Additionally, I tried with the L1-norm loss, given by the sum of the ABSOLUTE value of yj - tj. The L1-norm loss is given by:\n",
    "#### $$ L(y, t) =  \\frac{\\Sigma_i|y_i-t_i|}{2}   $$\n",
    "  "
   ]
  },
  {
   "cell_type": "markdown",
   "metadata": {},
   "source": [
    "Then I found out that \n",
    "1. Any function that has the property to be lower for better results and higher for worse results can be a loss function.\n",
    "This includes the L1-norm loss.\n",
    "2. Almost everything seems identical.\n",
    "3. The values of the loss we generally lower (as we don't elevate to the second power).\n",
    "4. For our problem, both L1-norm and L2-norm work equally well. \n",
    "5. Generally, L1-norm has more limitations than L2-norm. You can read more about that online. Overall, L2-norm loss is much more stable and computationally efficient. "
   ]
  }
 ],
 "metadata": {
  "anaconda-cloud": {},
  "kernelspec": {
   "display_name": "Python 3",
   "language": "python",
   "name": "python3"
  },
  "language_info": {
   "codemirror_mode": {
    "name": "ipython",
    "version": 3
   },
   "file_extension": ".py",
   "mimetype": "text/x-python",
   "name": "python",
   "nbconvert_exporter": "python",
   "pygments_lexer": "ipython3",
   "version": "3.7.9"
  }
 },
 "nbformat": 4,
 "nbformat_minor": 1
}
