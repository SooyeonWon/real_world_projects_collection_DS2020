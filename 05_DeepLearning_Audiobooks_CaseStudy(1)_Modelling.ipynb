{
 "cells": [
  {
   "cell_type": "markdown",
   "metadata": {},
   "source": [
    "# Deep Learning Case Study: Audiobooks \n",
    "#### by Sooyeon Won \n",
    "\n",
    "### Keywords \n",
    "- Deep Learning \n",
    "- TensorFlow - Keras\n",
    "- Unbalanced Data\n",
    "\n",
    "\n",
    "### Contents \n",
    "\n",
    "<ul>    \n",
    "    ------------- Part1 -------------\n",
    "<li><a href=\"#Introduction\">1.  Introduction</a></li>\n",
    "<li><a href=\"#Preprocessing\">2.  Data Preprocessing</a></li>\n",
    "<li><a href=\"#Analysis\">3.  Data Analysis</a></li>\n",
    "<li><a href=\"#Test\">4.  Test the Model</a></li>\n",
    "    ------------- Part2 -------------\n",
    "<li><a href=\"#Prediction\">5.  Predicting on new Data</a></li>\n",
    "</ul>\n",
    "\n",
    "\n",
    "\n"
   ]
  },
  {
   "cell_type": "markdown",
   "metadata": {},
   "source": [
    "<a id='Introduction'></a>\n",
    "### 1. Introduction: Business Problem"
   ]
  },
  {
   "cell_type": "markdown",
   "metadata": {},
   "source": [
    " For this analysis, data from an Audiobook App are provided. Note that it relates to the audio versions of books ONLY. Each customer in the database has made a purchase at least once. Based on the available data, I created a machine learning (ML) algorithm that can predict whether customers will re-purchase products from the Audiobook company. <br><br>\n",
    "From the company's perspective, if a customer has a low probability of re-purchasing, the company can reduce costs on advertising to the customer, so that the company can focus its efforts only on the customers who are likely to convert again. In addition, the ML model can identify the most important metrics for a customer who come back again. Identifying new customers creates value and growth opportunities. <br><br>\n",
    "The given dataset contains following information. \n",
    ">- **Customer ID**\n",
    ">- **Book length overall**: Sum of the minute length of all purchases\n",
    ">- **Book length avg**: Average length in minutes of all purchases\n",
    ">- **Price paid_overall**: Total price of all purchases  \n",
    ">- **Price Paid avg**: Average paid price of all purchases\n",
    ">- **Review**: A binary variable whether the customer left a review\n",
    ">- **Review out of 10**: A review score that the customer left  \n",
    ">- **Total minutes listened**: Total minutes of time is a measure of engagement.\n",
    ">- **Completion**: The percentage of completion of the audiobook. \"Total minutes listened\" is divided by \"Book length overall\". It is ranged from 0 to 1.\n",
    ">- **Support requests**: Total number of support requests such as forgotten password, assistance for using the App, and so on.\n",
    ">- **Last visited - purchase date**: It is also a measure of engagement. The bigger the difference, the gibber the engagement (in days).\n",
    "\n",
    "In this analysis, I used all the features as the inputs, except for **Customer ID**, since it is completely arbitrary. \n",
    "The targets are a binary variable, indicating 0 or 1. I took a period of 2 years in the inputs, and the next 6 months as targets. \n",
    "\n",
    "So, basically, I predict whether a customer will convert in the next 6 months. based on the last 2 years of purchasing patterns and individual engagement. 6 months could be debatable, but it is also reasonable. If customers do not convert after 6 months, chances are they've gone to a competitor or didn't like the Audiobooks way of digesting information.  \n",
    "\n",
    "My solution approach is to create a a machine learning algorithm, which is able to predict whether a customer will buy again. This is a classic classification problem with two classes: will not purchase and will purchase, represented by 0s and 1s, respectively. \n",
    "\n"
   ]
  },
  {
   "cell_type": "markdown",
   "metadata": {},
   "source": [
    "<a id='Preprocessing'></a>\n",
    "## 2. Data Preprocessing\n",
    "&nbsp; 2. 1. Extract the data from the csv <br>\n",
    "&nbsp; 2. 2. Balance the dataset <br>\n",
    "&nbsp; 2. 3. Standardize the inputs <br>\n",
    "&nbsp; 2. 4. Shuffle the data <br>\n",
    "&nbsp; 2. 5. Split the dataset into train, validation, and test <br>\n",
    "&nbsp; 2. 6. Save the three datasets in a tensor friendly format"
   ]
  },
  {
   "cell_type": "markdown",
   "metadata": {},
   "source": [
    "### 2. 1. Extract the data from the csv"
   ]
  },
  {
   "cell_type": "code",
   "execution_count": 1,
   "metadata": {},
   "outputs": [],
   "source": [
    "# Import the relevant libraries \n",
    "import numpy as np\n",
    "from sklearn import preprocessing # for easier data standardization "
   ]
  },
  {
   "cell_type": "code",
   "execution_count": 2,
   "metadata": {},
   "outputs": [],
   "source": [
    "# Load the data\n",
    "raw_csv_data = np.loadtxt('Audiobooks_data.csv',delimiter=',')\n",
    "\n",
    "# Specfiy inputs and target\n",
    "# Inputs - expect for the the arbitrary customer IDs in the first column, and the target\n",
    "unscaled_inputs_all = raw_csv_data[:,1:-1]\n",
    "# Target - the last column\n",
    "targets_all = raw_csv_data[:,-1]"
   ]
  },
  {
   "cell_type": "markdown",
   "metadata": {},
   "source": [
    "### 2. 2. Balance the dataset"
   ]
  },
  {
   "cell_type": "code",
   "execution_count": 3,
   "metadata": {},
   "outputs": [
    {
     "name": "stdout",
     "output_type": "stream",
     "text": [
      "The number of target 1s:  2237\n",
      "The number of target 0s:  11847\n",
      "Total targets:  14084\n"
     ]
    }
   ],
   "source": [
    "# Target distribution \n",
    "num_one_targets = int(np.sum(targets_all))\n",
    "print('The number of target 1s: ', num_one_targets)\n",
    "print('The number of target 0s: ', len(targets_all) - num_one_targets)\n",
    "print('Total targets: ', len(targets_all))"
   ]
  },
  {
   "cell_type": "code",
   "execution_count": 4,
   "metadata": {},
   "outputs": [],
   "source": [
    "zero_targets_counter = 0\n",
    "indices_to_remove = []\n",
    "\n",
    "for i in range(targets_all.shape[0]):\n",
    "    if targets_all[i] == 0:\n",
    "        zero_targets_counter += 1\n",
    "        if zero_targets_counter > num_one_targets:\n",
    "            indices_to_remove.append(i)"
   ]
  },
  {
   "cell_type": "code",
   "execution_count": 5,
   "metadata": {},
   "outputs": [],
   "source": [
    "# Delete the marked indices marked from the for loop\n",
    "unscaled_inputs_equal_priors = np.delete(unscaled_inputs_all, indices_to_remove, axis=0)\n",
    "targets_equal_priors = np.delete(targets_all, indices_to_remove, axis=0)"
   ]
  },
  {
   "cell_type": "markdown",
   "metadata": {},
   "source": [
    "> **Comment**: First, I count how many targets are 1s, indicating that the number of customers who converted. I set a counter for targets that are 0, meaning that the customer did not convert. To create a \"balanced\" dataset, I simply remove some datapoints from the major class, as the lecturer recommended. Note that there are various ways to deal with imbalanced data. For example I took a SMOTE technique in my previous [Starbucks Capstone Project](https://github.com/SooyeonWon/ML_starbucks_capstone_projects). \n",
    "<br><br>\n",
    "To balance the data, I declare a variable that will count the number of target: 0s. Once the 2 classes are balanced, mark entries where the target is 0. Then I created two variables, containing the inputs, and the targets.I delete all indices marked as \"to remove\" in the loop above."
   ]
  },
  {
   "cell_type": "markdown",
   "metadata": {},
   "source": [
    "### 2. 3. Standardize the inputs\n",
    "> To standarize the inputs increases the accuracy of algorithm."
   ]
  },
  {
   "cell_type": "code",
   "execution_count": 6,
   "metadata": {},
   "outputs": [],
   "source": [
    "# Using the sklearn library, the inputs are standardized \n",
    "scaled_inputs = preprocessing.scale(unscaled_inputs_equal_priors)"
   ]
  },
  {
   "cell_type": "markdown",
   "metadata": {},
   "source": [
    "### 2. 4. Shuffle the data\n",
    "> The collected data is arranged by date. Since I will batch later, I must shuffle the data, so that I can keep the same information but in a random order. Otherwise the data is homogenous inside a batch. On the other hand, between the batches, the batches are heterogenous. So, I used the shuffled indices to shuffle the inputs and targets."
   ]
  },
  {
   "cell_type": "code",
   "execution_count": 7,
   "metadata": {},
   "outputs": [],
   "source": [
    "# Shuffle the indices \n",
    "shuffled_indices = np.arange(scaled_inputs.shape[0])\n",
    "np.random.shuffle(shuffled_indices)"
   ]
  },
  {
   "cell_type": "code",
   "execution_count": 8,
   "metadata": {},
   "outputs": [],
   "source": [
    "# Shuffle the inputs and target\n",
    "shuffled_inputs = scaled_inputs[shuffled_indices]\n",
    "shuffled_targets = targets_equal_priors[shuffled_indices]"
   ]
  },
  {
   "cell_type": "markdown",
   "metadata": {},
   "source": [
    "### 2. 5. Split the dataset into train, validation, and test\n",
    "> In this analysis, I split the data into 80-10-10 distribution of training, validation, and test."
   ]
  },
  {
   "cell_type": "code",
   "execution_count": 9,
   "metadata": {},
   "outputs": [],
   "source": [
    "# Count the total number of samples\n",
    "samples_count = shuffled_inputs.shape[0]\n",
    "\n",
    "# 80% of the whole data are assigned to training dataset \n",
    "train_samples_count = int(0.8 * samples_count)\n",
    "\n",
    "# 10% of the whole data are assigned to validation dataset \n",
    "validation_samples_count = int(0.1 * samples_count)\n",
    "\n",
    "# Finally, test' dataset contains all remaining data.\n",
    "test_samples_count = samples_count - train_samples_count - validation_samples_count"
   ]
  },
  {
   "cell_type": "code",
   "execution_count": 10,
   "metadata": {},
   "outputs": [],
   "source": [
    "# Create variables that record the inputs and targets for training. \n",
    "train_inputs = shuffled_inputs[:train_samples_count]\n",
    "train_targets = shuffled_targets[:train_samples_count]\n",
    "\n",
    "# Create variables that record the inputs and targets for validation.\n",
    "validation_inputs = shuffled_inputs[train_samples_count:train_samples_count+validation_samples_count]\n",
    "validation_targets = shuffled_targets[train_samples_count:train_samples_count+validation_samples_count]\n",
    "\n",
    "# Create variables that record the inputs and targets for test. \n",
    "test_inputs = shuffled_inputs[train_samples_count+validation_samples_count:]\n",
    "test_targets = shuffled_targets[train_samples_count+validation_samples_count:]"
   ]
  },
  {
   "cell_type": "markdown",
   "metadata": {},
   "source": [
    "> So far I have balanced the dataset to be 50-50 (for targets 0 and 1), but the training, validation, and test were taken from a shuffled dataset. So it should be also checed if the splited sets are also balanced. Note that whenever I rerun the code, I get unequal values, since they are randomly shuffled. "
   ]
  },
  {
   "cell_type": "code",
   "execution_count": 11,
   "metadata": {},
   "outputs": [
    {
     "name": "stdout",
     "output_type": "stream",
     "text": [
      "Training set: Target=1: 1796  / Total # targets: 3579  / Percentage: 0.502\n",
      "Validation set: Target=1: 214  / Total # targets: 447  / Percentage: 0.479\n",
      "Test set: Target=1: 227  / Total # targets: 448  / Percentage: 0.507\n"
     ]
    }
   ],
   "source": [
    "# Print the number of targets that are 1s, the total number of samples, and the proportion for each splited dataset.\n",
    "print('Training set: Target=1:', int(np.sum(train_targets)), ' / Total # targets:', int(train_samples_count), ' / Percentage:', np.round(np.sum(train_targets) / train_samples_count,3))\n",
    "print('Validation set: Target=1:', int(np.sum(validation_targets)), ' / Total # targets:', int(validation_samples_count),' / Percentage:',  np.round(np.sum(validation_targets) / validation_samples_count,3))\n",
    "print('Test set: Target=1:', int(np.sum(test_targets)), ' / Total # targets:', int(test_samples_count), ' / Percentage:',  np.round(np.sum(test_targets) / test_samples_count,3))"
   ]
  },
  {
   "cell_type": "markdown",
   "metadata": {},
   "source": [
    "### 2. 6. Save the three datasets in *.npz"
   ]
  },
  {
   "cell_type": "code",
   "execution_count": 12,
   "metadata": {},
   "outputs": [],
   "source": [
    "# Save the three datasets in *.npz.\n",
    "np.savez('Audiobooks_data_train', inputs=train_inputs, targets=train_targets)\n",
    "np.savez('Audiobooks_data_validation', inputs=validation_inputs, targets=validation_targets)\n",
    "np.savez('Audiobooks_data_test', inputs=test_inputs, targets=test_targets)"
   ]
  },
  {
   "cell_type": "markdown",
   "metadata": {},
   "source": [
    "<a id='Analysis'></a>\n",
    "## 3. Data Analysis \n",
    "&nbsp; 3. 1. Data <br>\n",
    "&nbsp; 3. 2. Model <br>"
   ]
  },
  {
   "cell_type": "code",
   "execution_count": 13,
   "metadata": {},
   "outputs": [],
   "source": [
    "# Import the relevant libraries to create \n",
    "import tensorflow as tf"
   ]
  },
  {
   "cell_type": "markdown",
   "metadata": {},
   "source": [
    "### 3. 1. Data"
   ]
  },
  {
   "cell_type": "code",
   "execution_count": 14,
   "metadata": {},
   "outputs": [],
   "source": [
    "# Load the training set \n",
    "npz_train = np.load('Audiobooks_data_train.npz')\n",
    "# Training Inputs & Targets\n",
    "# Note that targets must be integer, because of sparse_categorical_crossentropy \n",
    "train_inputs, train_targets = npz_train['inputs'].astype(np.float), npz_train['targets'].astype(np.int)"
   ]
  },
  {
   "cell_type": "code",
   "execution_count": 15,
   "metadata": {},
   "outputs": [],
   "source": [
    "# Load the validation set \n",
    "npz_valid = np.load('Audiobooks_data_validation.npz')\n",
    "# Inputs & Targets in the validatin set\n",
    "validation_inputs, validation_targets = npz_valid['inputs'].astype(np.float), npz_valid['targets'].astype(np.int)"
   ]
  },
  {
   "cell_type": "code",
   "execution_count": 16,
   "metadata": {},
   "outputs": [],
   "source": [
    "# Load the test dataset\n",
    "npz_test = np.load('Audiobooks_data_test.npz')\n",
    "# # Inputs & Targets in the test set\n",
    "test_inputs, test_targets = npz_test['inputs'].astype(np.float), npz_test['targets'].astype(np.int)"
   ]
  },
  {
   "cell_type": "markdown",
   "metadata": {},
   "source": [
    "### 3. 2. Model\n",
    "#### Outline"
   ]
  },
  {
   "cell_type": "code",
   "execution_count": 17,
   "metadata": {},
   "outputs": [],
   "source": [
    "# Set the input and output sizes\n",
    "input_size = 10\n",
    "output_size = 2\n",
    "# Set the same hidden layer size for both hidden layers\n",
    "hidden_layer_size = 50"
   ]
  },
  {
   "cell_type": "markdown",
   "metadata": {},
   "source": [
    "> Since there are 10 predictors in csv, and the target with 2 classes in the provided dataset. These decided the size of inputs and outputs. 50 Hidden units provide enough complexity. I did not put too many units at the begining for better speed."
   ]
  },
  {
   "cell_type": "code",
   "execution_count": 18,
   "metadata": {},
   "outputs": [],
   "source": [
    "# Define the model \n",
    "model_audiobook = tf.keras.Sequential([\n",
    "                            # 1st hidden layer \n",
    "                            tf.keras.layers.Dense(hidden_layer_size, activation='relu'), \n",
    "                            # 2nd hidden layer\n",
    "                            tf.keras.layers.Dense(hidden_layer_size, activation='relu'), \n",
    "                            # Output layer with softmax function\n",
    "                            tf.keras.layers.Dense(output_size, activation='softmax') # output layer\n",
    "                            ])"
   ]
  },
  {
   "cell_type": "markdown",
   "metadata": {},
   "source": [
    "> Since the data is already preprocessed, it is not necessary to include input layer. "
   ]
  },
  {
   "cell_type": "markdown",
   "metadata": {},
   "source": [
    "#### Optimizer and Loss function"
   ]
  },
  {
   "cell_type": "code",
   "execution_count": 19,
   "metadata": {},
   "outputs": [],
   "source": [
    "model_audiobook.compile(optimizer='adam', loss='sparse_categorical_crossentropy', metrics=['accuracy'])"
   ]
  },
  {
   "cell_type": "markdown",
   "metadata": {},
   "source": [
    "> I defined the optimizer: 'adam', the loss function 'Sparse Categorical Cross-Entropy' and the metrics, obtaining at each iteration.\n"
   ]
  },
  {
   "cell_type": "markdown",
   "metadata": {},
   "source": [
    "#### Early Stopping Mechanism"
   ]
  },
  {
   "cell_type": "code",
   "execution_count": 20,
   "metadata": {},
   "outputs": [],
   "source": [
    "# I set patience=2, to be a bit tolerant against random validation loss increases\n",
    "early_stopping = tf.keras.callbacks.EarlyStopping(patience=2)"
   ]
  },
  {
   "cell_type": "markdown",
   "metadata": {},
   "source": [
    "#### Training the Model"
   ]
  },
  {
   "cell_type": "code",
   "execution_count": 21,
   "metadata": {},
   "outputs": [],
   "source": [
    "# Set the batch size\n",
    "batch_size = 100\n",
    "\n",
    "# Set a maximum number of training epochs\n",
    "max_epochs = 100"
   ]
  },
  {
   "cell_type": "code",
   "execution_count": 22,
   "metadata": {},
   "outputs": [
    {
     "name": "stdout",
     "output_type": "stream",
     "text": [
      "Epoch 1/100\n",
      "36/36 - 0s - loss: 0.5770 - accuracy: 0.7049 - val_loss: 0.5144 - val_accuracy: 0.7204\n",
      "Epoch 2/100\n",
      "36/36 - 0s - loss: 0.4631 - accuracy: 0.7541 - val_loss: 0.4580 - val_accuracy: 0.7584\n",
      "Epoch 3/100\n",
      "36/36 - 0s - loss: 0.4131 - accuracy: 0.7893 - val_loss: 0.4273 - val_accuracy: 0.7696\n",
      "Epoch 4/100\n",
      "36/36 - 0s - loss: 0.3865 - accuracy: 0.7988 - val_loss: 0.4218 - val_accuracy: 0.7830\n",
      "Epoch 5/100\n",
      "36/36 - 0s - loss: 0.3686 - accuracy: 0.7991 - val_loss: 0.4078 - val_accuracy: 0.7696\n",
      "Epoch 6/100\n",
      "36/36 - 0s - loss: 0.3597 - accuracy: 0.8027 - val_loss: 0.3990 - val_accuracy: 0.7539\n",
      "Epoch 7/100\n",
      "36/36 - 0s - loss: 0.3551 - accuracy: 0.8075 - val_loss: 0.3950 - val_accuracy: 0.7740\n",
      "Epoch 8/100\n",
      "36/36 - 0s - loss: 0.3490 - accuracy: 0.8086 - val_loss: 0.4040 - val_accuracy: 0.7852\n",
      "Epoch 9/100\n",
      "36/36 - 0s - loss: 0.3434 - accuracy: 0.8153 - val_loss: 0.4086 - val_accuracy: 0.7830\n"
     ]
    },
    {
     "data": {
      "text/plain": [
       "<tensorflow.python.keras.callbacks.History at 0x1bb598c84f0>"
      ]
     },
     "execution_count": 22,
     "metadata": {},
     "output_type": "execute_result"
    }
   ],
   "source": [
    "# Note that the train, validation and test data are not iterable in this time\n",
    "model_audiobook.fit(train_inputs,                                            # 1. train inputs\n",
    "                    train_targets,                                           # 2. train targets\n",
    "                    batch_size=batch_size,                                   # 3. batch size\n",
    "                    epochs=max_epochs,                                       # 4. epochs that I train for \n",
    "                    callbacks=[early_stopping],                              # 5. early stopping\n",
    "                    validation_data=(validation_inputs, validation_targets), # 6. validation data\n",
    "                    verbose = 2)  "
   ]
  },
  {
   "cell_type": "markdown",
   "metadata": {},
   "source": [
    "> 'callbacks' is the function called by a task when a task is completed. The task here is to check whether val_loss is increasing. After 12 epochs of training, I have reached a validation accuracy of ca. 82%. Since I set an early stopping mechanism, the training didnt go through for all epochs. "
   ]
  },
  {
   "cell_type": "markdown",
   "metadata": {},
   "source": [
    "<a id='Test'></a>\n",
    "## 4. Test the Model\n",
    "> After fitting on the training data and validating on the validation data, I tested the final prediction power of the model by running it on the test dataset which the algorithm has NEVER used before."
   ]
  },
  {
   "cell_type": "code",
   "execution_count": 23,
   "metadata": {},
   "outputs": [
    {
     "name": "stdout",
     "output_type": "stream",
     "text": [
      "14/14 [==============================] - 0s 904us/step - loss: 0.3493 - accuracy: 0.8103\n"
     ]
    }
   ],
   "source": [
    "test_loss, test_accuracy = model_audiobook.evaluate(test_inputs, test_targets)"
   ]
  },
  {
   "cell_type": "code",
   "execution_count": 24,
   "metadata": {},
   "outputs": [
    {
     "name": "stdout",
     "output_type": "stream",
     "text": [
      "\n",
      "Test loss: 0.35. Test accuracy: 81.03%\n"
     ]
    }
   ],
   "source": [
    "print('\\nTest loss: {0:.2f}. Test accuracy: {1:.2f}%'.format(test_loss, test_accuracy*100.))"
   ]
  },
  {
   "cell_type": "markdown",
   "metadata": {},
   "source": [
    "> The final accuracy is very close to the validation accuracy, since I did not fiddle too much with hyperparameters. Using the initial model and hyperparameters given in this notebook, the final test accuracy should be roughly around 80%. Again, note that each time the code is rerun, a different accuracy will be obtained because each training is different. \n"
   ]
  },
  {
   "cell_type": "markdown",
   "metadata": {},
   "source": [
    "### Obtain the probability for a customer to convert\n",
    "> After testing I predict the probability of each class using the 'predict' method."
   ]
  },
  {
   "cell_type": "code",
   "execution_count": 25,
   "metadata": {
    "scrolled": false
   },
   "outputs": [
    {
     "data": {
      "text/plain": [
       "array([0.52, 0.  , 0.41, 0.67, 1.  , 0.65, 0.6 , 1.  , 1.  , 0.48, 0.45,\n",
       "       0.41, 0.01, 0.75, 0.  , 0.86, 0.96, 0.48, 0.75, 0.69, 0.44, 0.39,\n",
       "       0.44, 0.7 , 0.8 , 0.97, 0.98, 0.01, 0.44, 1.  , 0.07, 0.05, 0.  ,\n",
       "       0.05, 0.53, 0.94, 0.01, 0.77, 0.  , 0.79, 0.44, 0.36, 0.76, 0.63,\n",
       "       0.66, 0.59, 1.  , 0.98, 0.45, 0.03, 0.  , 0.82, 1.  , 1.  , 0.82,\n",
       "       0.63, 0.  , 0.43, 0.12, 0.53, 0.  , 0.03, 0.75, 0.63, 1.  , 1.  ,\n",
       "       0.  , 0.68, 1.  , 0.44, 0.65, 0.  , 0.  , 1.  , 0.99, 1.  , 0.94,\n",
       "       1.  , 0.65, 0.  , 0.58, 0.03, 0.54, 0.  , 0.  , 0.55, 0.99, 0.65,\n",
       "       0.  , 1.  , 0.98, 0.  , 0.  , 0.71, 0.46, 0.41, 0.77, 0.44, 0.63,\n",
       "       0.67, 0.01, 0.77, 0.44, 1.  , 0.99, 0.99, 0.  , 0.44, 0.  , 0.45,\n",
       "       0.45, 0.44, 0.  , 0.48, 0.01, 0.65, 0.44, 0.49, 0.55, 1.  , 0.1 ,\n",
       "       0.66, 0.5 , 0.  , 0.  , 0.44, 0.85, 0.95, 0.83, 0.54, 0.71, 0.95,\n",
       "       0.  , 0.69, 1.  , 0.45, 0.86, 0.44, 0.44, 0.44, 0.72, 0.79, 0.  ,\n",
       "       0.83, 0.62, 1.  , 0.57, 0.94, 1.  , 0.02, 0.68, 0.  , 0.  , 0.44,\n",
       "       1.  , 0.6 , 0.  , 0.8 , 0.62, 0.25, 0.43, 0.44, 0.21, 0.  , 0.98,\n",
       "       0.62, 0.75, 0.  , 0.63, 0.02, 0.9 , 0.  , 0.96, 0.  , 0.37, 0.86,\n",
       "       0.  , 0.95, 0.44, 0.86, 0.99, 0.81, 0.38, 0.  , 0.03, 0.  , 0.48,\n",
       "       0.09, 0.71, 0.46, 0.17, 0.1 , 0.38, 0.02, 0.1 , 0.62, 0.68, 0.68,\n",
       "       0.48, 1.  , 0.  , 0.75, 0.48, 0.01, 0.35, 0.  , 0.1 , 1.  , 0.33,\n",
       "       0.79, 0.  , 0.44, 0.67, 0.  , 1.  , 0.  , 0.56, 0.88, 0.08, 0.74,\n",
       "       0.44, 0.99, 0.34, 0.91, 0.  , 0.01, 0.33, 0.33, 0.6 , 1.  , 0.64,\n",
       "       0.98, 0.  , 0.58, 0.97, 0.58, 0.45, 0.92, 0.94, 1.  , 0.63, 0.99,\n",
       "       0.64, 0.01, 0.46, 0.95, 0.48, 0.49, 0.99, 0.86, 0.68, 0.86, 0.2 ,\n",
       "       0.44, 0.55, 0.92, 0.48, 0.  , 0.58, 0.89, 0.95, 0.  , 0.58, 0.34,\n",
       "       0.56, 0.3 , 0.48, 0.  , 0.  , 0.99, 0.  , 0.  , 0.72, 0.66, 0.07,\n",
       "       0.31, 0.  , 0.87, 0.  , 0.23, 0.55, 0.54, 0.85, 0.44, 0.56, 0.44,\n",
       "       1.  , 0.59, 0.41, 0.45, 0.98, 0.01, 0.67, 0.82, 0.45, 0.01, 0.12,\n",
       "       0.62, 0.1 , 0.34, 0.56, 1.  , 0.47, 0.  , 1.  , 0.43, 0.7 , 1.  ,\n",
       "       0.28, 0.  , 0.  , 1.  , 0.  , 0.44, 0.  , 0.  , 1.  , 0.57, 0.56,\n",
       "       0.54, 0.  , 0.73, 1.  , 0.41, 0.95, 1.  , 0.  , 0.81, 0.58, 1.  ,\n",
       "       0.8 , 0.44, 1.  , 0.68, 0.41, 1.  , 0.6 , 0.39, 0.79, 0.  , 0.66,\n",
       "       0.09, 0.18, 0.85, 0.  , 0.81, 0.75, 0.82, 0.99, 1.  , 0.58, 1.  ,\n",
       "       0.43, 0.67, 0.47, 0.66, 0.  , 0.33, 0.92, 0.44, 0.  , 0.  , 0.31,\n",
       "       0.7 , 0.95, 0.68, 0.56, 0.98, 0.46, 0.  , 0.44, 0.62, 1.  , 0.6 ,\n",
       "       0.71, 0.1 , 0.94, 0.86, 0.72, 0.  , 0.  , 0.48, 0.62, 0.76, 1.  ,\n",
       "       0.54, 0.88, 0.16, 0.03, 0.8 , 0.  , 0.48, 0.44, 0.  , 0.44, 0.64,\n",
       "       0.44, 0.66, 1.  , 0.  , 0.44, 0.02, 0.  , 0.41, 0.79, 0.18, 0.  ,\n",
       "       0.09, 0.17, 0.  , 0.  , 0.45, 0.  , 1.  , 0.63, 0.44, 0.  , 1.  ,\n",
       "       0.48, 0.41, 1.  , 0.  , 0.  , 0.  , 0.86, 0.45, 0.  , 0.62, 0.44,\n",
       "       0.73, 0.42, 0.81, 0.  , 0.66, 0.14, 0.59, 0.38, 1.  , 0.66, 0.  ,\n",
       "       0.23, 1.  , 0.66, 0.04, 0.75, 0.93, 0.55, 1.  ], dtype=float32)"
      ]
     },
     "execution_count": 25,
     "metadata": {},
     "output_type": "execute_result"
    }
   ],
   "source": [
    "# Predict the probability of each class\n",
    "# model_audiobook.predict(test_inputs).round(2)\n",
    "\n",
    "# Alternatively, I can only display the second column only, indicating the probability of being converted.\n",
    "model_audiobook.predict(test_inputs)[:,1].round(2)"
   ]
  },
  {
   "cell_type": "code",
   "execution_count": 26,
   "metadata": {},
   "outputs": [
    {
     "data": {
      "text/plain": [
       "array([1, 0, 0, 1, 1, 1, 1, 1, 1, 0, 0, 0, 0, 1, 0, 1, 1, 0, 1, 1, 0, 0,\n",
       "       0, 1, 1, 1, 1, 0, 0, 1, 0, 0, 0, 0, 1, 1, 0, 1, 0, 1, 0, 0, 1, 1,\n",
       "       1, 1, 1, 1, 0, 0, 0, 1, 1, 1, 1, 1, 0, 0, 0, 1, 0, 0, 1, 1, 1, 1,\n",
       "       0, 1, 1, 0, 1, 0, 0, 1, 1, 1, 1, 1, 1, 0, 1, 0, 1, 0, 0, 1, 1, 1,\n",
       "       0, 1, 1, 0, 0, 1, 0, 0, 1, 0, 1, 1, 0, 1, 0, 1, 1, 1, 0, 0, 0, 0,\n",
       "       0, 0, 0, 0, 0, 1, 0, 0, 1, 1, 0, 1, 1, 0, 0, 0, 1, 1, 1, 1, 1, 1,\n",
       "       0, 1, 1, 0, 1, 0, 0, 0, 1, 1, 0, 1, 1, 1, 1, 1, 1, 0, 1, 0, 0, 0,\n",
       "       1, 1, 0, 1, 1, 0, 0, 0, 0, 0, 1, 1, 1, 0, 1, 0, 1, 0, 1, 0, 0, 1,\n",
       "       0, 1, 0, 1, 1, 1, 0, 0, 0, 0, 0, 0, 1, 0, 0, 0, 0, 0, 0, 1, 1, 1,\n",
       "       0, 1, 0, 1, 0, 0, 0, 0, 0, 1, 0, 1, 0, 0, 1, 0, 1, 0, 1, 1, 0, 1,\n",
       "       0, 1, 0, 1, 0, 0, 0, 0, 1, 1, 1, 1, 0, 1, 1, 1, 0, 1, 1, 1, 1, 1,\n",
       "       1, 0, 0, 1, 0, 0, 1, 1, 1, 1, 0, 0, 1, 1, 0, 0, 1, 1, 1, 0, 1, 0,\n",
       "       1, 0, 0, 0, 0, 1, 0, 0, 1, 1, 0, 0, 0, 1, 0, 0, 1, 1, 1, 0, 1, 0,\n",
       "       1, 1, 0, 0, 1, 0, 1, 1, 0, 0, 0, 1, 0, 0, 1, 1, 0, 0, 1, 0, 1, 1,\n",
       "       0, 0, 0, 1, 0, 0, 0, 0, 1, 1, 1, 1, 0, 1, 1, 0, 1, 1, 0, 1, 1, 1,\n",
       "       1, 0, 1, 1, 0, 1, 1, 0, 1, 0, 1, 0, 0, 1, 0, 1, 1, 1, 1, 1, 1, 1,\n",
       "       0, 1, 0, 1, 0, 0, 1, 0, 0, 0, 0, 1, 1, 1, 1, 1, 0, 0, 0, 1, 1, 1,\n",
       "       1, 0, 1, 1, 1, 0, 0, 0, 1, 1, 1, 1, 1, 0, 0, 1, 0, 0, 0, 0, 0, 1,\n",
       "       0, 1, 1, 0, 0, 0, 0, 0, 1, 0, 0, 0, 0, 0, 0, 0, 0, 1, 1, 0, 0, 1,\n",
       "       0, 0, 1, 0, 0, 0, 1, 0, 0, 1, 0, 1, 0, 1, 0, 1, 0, 1, 0, 1, 1, 0,\n",
       "       0, 1, 1, 0, 1, 1, 1, 1], dtype=int64)"
      ]
     },
     "execution_count": 26,
     "metadata": {},
     "output_type": "execute_result"
    }
   ],
   "source": [
    "# The class each data point belong to\n",
    "np.argmax(model_audiobook.predict(test_inputs),axis=1)\n",
    "\n",
    "# Alternatively,\n",
    "#model_audiobook.predict(test_inputs)[:,1].round(0)"
   ]
  },
  {
   "cell_type": "markdown",
   "metadata": {},
   "source": [
    "> 'argmax' indicates the position of the highest argument row-wise or column-wise. in this case, I'm interested in which column has the higher argument (probability), so I set axis=1 (for columns). The output would be the column ID with the highest argument for each observation (row). <br>\n",
    "> For instance, the output of an observation was [0.93,0.07] , np.argmax([0.93,0.07], axis=1) would find that 0.93 is the higher argument (higher probability) and return 0. This method is great for multi-class problems as it is independent of the number of classes"
   ]
  },
  {
   "cell_type": "markdown",
   "metadata": {},
   "source": [
    "### Save the model"
   ]
  },
  {
   "cell_type": "code",
   "execution_count": 27,
   "metadata": {},
   "outputs": [],
   "source": [
    "model_audiobook.save('model_audiobook.h5') "
   ]
  },
  {
   "cell_type": "markdown",
   "metadata": {},
   "source": [
    "> Finally, I saved the model using the built-in method TensorFlow method. I chose the HDF format since it is optimal for large numerical objects. "
   ]
  }
 ],
 "metadata": {
  "kernelspec": {
   "display_name": "Python [conda env:py3-TF2.0]",
   "language": "python",
   "name": "conda-env-py3-TF2.0-py"
  },
  "language_info": {
   "codemirror_mode": {
    "name": "ipython",
    "version": 3
   },
   "file_extension": ".py",
   "mimetype": "text/x-python",
   "name": "python",
   "nbconvert_exporter": "python",
   "pygments_lexer": "ipython3",
   "version": "3.8.5"
  }
 },
 "nbformat": 4,
 "nbformat_minor": 2
}
