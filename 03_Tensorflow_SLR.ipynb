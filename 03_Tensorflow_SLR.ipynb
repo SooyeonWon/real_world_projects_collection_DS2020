{
 "cells": [
  {
   "cell_type": "markdown",
   "metadata": {},
   "source": [
    "# Basic TensorFlow 2.0 Example \n",
    "\n",
    "#### by Sooyeon Won \n",
    "In this notebook I recreated the previous machine learning algorithm using TensorFlow 2.0.\n",
    "\n",
    "### Keywords \n",
    "- TensorFlow 2.0\n",
    "- Simple Linear Regression\n",
    "\n",
    "\n",
    "\n",
    "### Contents \n",
    "\n",
    "<ul>\n",
    "<li><a href=\"#libraries\">1.  Import the relevant libraries</a></li>\n",
    "<li><a href=\"#Generate\">2.  Generate data</a></li>\n",
    "<li><a href=\"#Solve\">3.  Build a model with TensorFlow</a></li>\n",
    "<li><a href=\"#Extract1\">4.  Extract the weights and bias</a></li>\n",
    "<li><a href=\"#Extract2\">5.  Extract the outputs (make predictions)</a></li>\n",
    "<li><a href=\"#Plot\">6.  Plot the data</a></li>\n",
    "\n",
    "</ul>\n",
    "\n"
   ]
  },
  {
   "cell_type": "markdown",
   "metadata": {},
   "source": [
    "<a id='libraries'></a>\n",
    "## 1. Import the relevant libraries"
   ]
  },
  {
   "cell_type": "code",
   "execution_count": 1,
   "metadata": {},
   "outputs": [],
   "source": [
    "# Import the relevant libraries\n",
    "import numpy as np\n",
    "import matplotlib.pyplot as plt\n",
    "import tensorflow as tf"
   ]
  },
  {
   "cell_type": "code",
   "execution_count": 2,
   "metadata": {},
   "outputs": [
    {
     "name": "stdout",
     "output_type": "stream",
     "text": [
      "2.3.0\n"
     ]
    }
   ],
   "source": [
    "print(tf.__version__)"
   ]
  },
  {
   "cell_type": "markdown",
   "metadata": {},
   "source": [
    "<a id='Generate'></a>\n",
    "## 2. Data generation\n",
    "\n",
    "I generated data using the identical logic and code as the basic NN example from the [previous notebook](https://github.com/SooyeonWon/real_world_projects_collection_DS2020/blob/main/02_Basic_Neural_Network_SLR.ipynb). The only difference now is that we save it to an **npz file**. Npz is numpy's file type which allows you to save numpy arrays into a single .npz file. \n",
    "\n",
    "The concept of npz file is useful in machine learning cases, since the format of given datas is often csv, database, etc. Also, these formats are preprocessed into a desired format.\n",
    "\n",
    "Thus, I saved it into  npz files to build algorithm using the npz files, not using the original file. So basically, I save the NumPy arrays into a file that I can later access. "
   ]
  },
  {
   "cell_type": "code",
   "execution_count": 3,
   "metadata": {},
   "outputs": [],
   "source": [
    "# Assign the size of training data\n",
    "observations = 1000\n",
    "\n",
    "# Generate 2 input variables: xs, zs\n",
    "xs = np.random.uniform(low=-10, high=10, size=(observations,1))\n",
    "zs = np.random.uniform(-10, 10, (observations,1))\n",
    "\n",
    "# Combine the 2 input vectors into one matrix (1000 x 2)\n",
    "generated_inputs = np.column_stack((xs,zs))\n",
    "\n",
    "# Generate a random noise \n",
    "noise = np.random.uniform(-1, 1, (observations,1))\n",
    "\n",
    "# Produce the target according to the above defined noise. \n",
    "generated_targets = 2*xs - 3*zs + 5 + noise\n",
    "\n",
    "# Save into an npz file called \"TF_intro\"\n",
    "np.savez('TF_intro', inputs=generated_inputs, targets=generated_targets)"
   ]
  },
  {
   "cell_type": "markdown",
   "metadata": {},
   "source": [
    ">**Comments:** \n",
    ">- Firstly, I declared a variable ('observations'), which indicates the size of the training set that I want to generate. For this basic example, I generated 2 input variable, and named xs, xz. The variables are generated randomly and uniformly distributed. So, you can understand that the size of xs and zs is a vector of 1000(observations) x 1. \n",
    ">- Then I stacked the two dimensions (i.e. the input vectors) into one input matrix, using numpy method. \n",
    ">- Since I want to \"make up\" a function, use the ML methodology, and see if the algorithm has learned it, so I generate a small random noise to the function.\n",
    ">        f(x,z) = 2x - 3z + 5 + noise.\n",
    ">-Then I produced the \"artifical\" targets according to the f(x,z) definition. In this way, we can consider that the weights should be 2 and -3, while the bias is 5.\n",
    ">- Finally, I save the NumPy array into an npz file called \"TF_intro\". \n"
   ]
  },
  {
   "cell_type": "markdown",
   "metadata": {},
   "source": [
    "<a id='Solve'></a>\n",
    "## 3. Build a Model  with TensorFlow\n",
    "\n",
    "<i/>Note: This intro is just the basics of TensorFlow which has way more capabilities and depth than that.<i>"
   ]
  },
  {
   "cell_type": "code",
   "execution_count": 4,
   "metadata": {},
   "outputs": [],
   "source": [
    "# Load the training data from the NPZ\n",
    "training_data = np.load('TF_intro.npz')"
   ]
  },
  {
   "cell_type": "code",
   "execution_count": 5,
   "metadata": {},
   "outputs": [],
   "source": [
    "# Set the size of inputs and outputs \n",
    "# I set 2 input variables \n",
    "input_size = 2 \n",
    "\n",
    "# I set 1 output variable.\n",
    "output_size = 1 "
   ]
  },
  {
   "cell_type": "markdown",
   "metadata": {},
   "source": [
    "> **Comments:** I declared the two variables where I assigned the input/output size of the model. It should be equal to the number of input/ output variables that I previously set. "
   ]
  },
  {
   "cell_type": "markdown",
   "metadata": {},
   "source": [
    "### 3.1. Build the model "
   ]
  },
  {
   "cell_type": "code",
   "execution_count": 6,
   "metadata": {},
   "outputs": [],
   "source": [
    "model = tf.keras.Sequential([                            \n",
    "                            # List each layer in the model using \"Dense\" method\n",
    "                            tf.keras.layers.Dense(output_size,\n",
    "                                                 kernel_initializer=tf.random_uniform_initializer(minval=-0.1, maxval=0.1),\n",
    "                                                 bias_initializer=tf.random_uniform_initializer(minval=-0.1, maxval=0.1)\n",
    "                                                 )\n",
    "                            ])"
   ]
  },
  {
   "cell_type": "markdown",
   "metadata": {},
   "source": [
    "> **Comments:** \n",
    ">- Note that I must build the model, to employ a Tensorflow. TF2 is based on Keras, so that is the module needed to build a model. 'Sequential' is the function that we lay down the model. \n",
    ">- In TF2, no calculations are involved, I just described the network. Each 'layer' is listed in the model. \n",
    ">- The method 'Dense' indicates, our mathematical operation to be (xw + b).\n",
    ">- For this analysis, I include the basic arguments to create a solution that is as close as possible to the previous NumPy model. However there are many more extra arguments to customize your model."
   ]
  },
  {
   "cell_type": "markdown",
   "metadata": {},
   "source": [
    "### 3.2. Set the Optimization Algorithm: SGD"
   ]
  },
  {
   "cell_type": "code",
   "execution_count": 7,
   "metadata": {},
   "outputs": [],
   "source": [
    "custom_optimizer = tf.keras.optimizers.SGD(learning_rate=0.02)"
   ]
  },
  {
   "cell_type": "markdown",
   "metadata": {},
   "source": [
    "> **Comments:** \n",
    ">- We should also define a custom optimizer, where I can specify the learning rate. For this analysis, I set a stochastic gradient descent (SGD) as the optimizer."
   ]
  },
  {
   "cell_type": "markdown",
   "metadata": {},
   "source": [
    "### 3.3. Design the Objective Function: 'compile' method"
   ]
  },
  {
   "cell_type": "code",
   "execution_count": 8,
   "metadata": {},
   "outputs": [],
   "source": [
    "model.compile(optimizer=custom_optimizer, loss='mean_squared_error')"
   ]
  },
  {
   "cell_type": "markdown",
   "metadata": {},
   "source": [
    "> **Comments:** \n",
    ">- 'compile' is the place where I can select and indicate the optimizers and the loss. \n",
    ">- L2-norm loss : Least sum of squared error\n",
    ">- Scaling by # of observations : mean\n"
   ]
  },
  {
   "cell_type": "markdown",
   "metadata": {},
   "source": [
    "### 3.4. Fit the model "
   ]
  },
  {
   "cell_type": "code",
   "execution_count": 9,
   "metadata": {},
   "outputs": [
    {
     "name": "stdout",
     "output_type": "stream",
     "text": [
      "Epoch 1/100\n",
      "32/32 - 0s - loss: 21.6009\n",
      "Epoch 2/100\n",
      "32/32 - 0s - loss: 1.3738\n",
      "Epoch 3/100\n",
      "32/32 - 0s - loss: 0.4047\n",
      "Epoch 4/100\n",
      "32/32 - 0s - loss: 0.3855\n",
      "Epoch 5/100\n",
      "32/32 - 0s - loss: 0.3533\n",
      "Epoch 6/100\n",
      "32/32 - 0s - loss: 0.3854\n",
      "Epoch 7/100\n",
      "32/32 - 0s - loss: 0.3627\n",
      "Epoch 8/100\n",
      "32/32 - 0s - loss: 0.3615\n",
      "Epoch 9/100\n",
      "32/32 - 0s - loss: 0.3686\n",
      "Epoch 10/100\n",
      "32/32 - 0s - loss: 0.3940\n",
      "Epoch 11/100\n",
      "32/32 - 0s - loss: 0.3594\n",
      "Epoch 12/100\n",
      "32/32 - 0s - loss: 0.3542\n",
      "Epoch 13/100\n",
      "32/32 - 0s - loss: 0.3983\n",
      "Epoch 14/100\n",
      "32/32 - 0s - loss: 0.3647\n",
      "Epoch 15/100\n",
      "32/32 - 0s - loss: 0.3439\n",
      "Epoch 16/100\n",
      "32/32 - 0s - loss: 0.3595\n",
      "Epoch 17/100\n",
      "32/32 - 0s - loss: 0.3524\n",
      "Epoch 18/100\n",
      "32/32 - 0s - loss: 0.3671\n",
      "Epoch 19/100\n",
      "32/32 - 0s - loss: 0.3430\n",
      "Epoch 20/100\n",
      "32/32 - 0s - loss: 0.3828\n",
      "Epoch 21/100\n",
      "32/32 - 0s - loss: 0.3607\n",
      "Epoch 22/100\n",
      "32/32 - 0s - loss: 0.3609\n",
      "Epoch 23/100\n",
      "32/32 - 0s - loss: 0.3523\n",
      "Epoch 24/100\n",
      "32/32 - 0s - loss: 0.3630\n",
      "Epoch 25/100\n",
      "32/32 - 0s - loss: 0.3559\n",
      "Epoch 26/100\n",
      "32/32 - 0s - loss: 0.3433\n",
      "Epoch 27/100\n",
      "32/32 - 0s - loss: 0.3505\n",
      "Epoch 28/100\n",
      "32/32 - 0s - loss: 0.3495\n",
      "Epoch 29/100\n",
      "32/32 - 0s - loss: 0.3745\n",
      "Epoch 30/100\n",
      "32/32 - 0s - loss: 0.3888\n",
      "Epoch 31/100\n",
      "32/32 - 0s - loss: 0.3456\n",
      "Epoch 32/100\n",
      "32/32 - 0s - loss: 0.3458\n",
      "Epoch 33/100\n",
      "32/32 - 0s - loss: 0.3631\n",
      "Epoch 34/100\n",
      "32/32 - 0s - loss: 0.4236\n",
      "Epoch 35/100\n",
      "32/32 - 0s - loss: 0.3649\n",
      "Epoch 36/100\n",
      "32/32 - 0s - loss: 0.3652\n",
      "Epoch 37/100\n",
      "32/32 - 0s - loss: 0.3628\n",
      "Epoch 38/100\n",
      "32/32 - 0s - loss: 0.3485\n",
      "Epoch 39/100\n",
      "32/32 - 0s - loss: 0.3652\n",
      "Epoch 40/100\n",
      "32/32 - 0s - loss: 0.3574\n",
      "Epoch 41/100\n",
      "32/32 - 0s - loss: 0.3774\n",
      "Epoch 42/100\n",
      "32/32 - 0s - loss: 0.3464\n",
      "Epoch 43/100\n",
      "32/32 - 0s - loss: 0.3522\n",
      "Epoch 44/100\n",
      "32/32 - 0s - loss: 0.3556\n",
      "Epoch 45/100\n",
      "32/32 - 0s - loss: 0.3405\n",
      "Epoch 46/100\n",
      "32/32 - 0s - loss: 0.3446\n",
      "Epoch 47/100\n",
      "32/32 - 0s - loss: 0.3994\n",
      "Epoch 48/100\n",
      "32/32 - 0s - loss: 0.3998\n",
      "Epoch 49/100\n",
      "32/32 - 0s - loss: 0.3500\n",
      "Epoch 50/100\n",
      "32/32 - 0s - loss: 0.3619\n",
      "Epoch 51/100\n",
      "32/32 - 0s - loss: 0.4269\n",
      "Epoch 52/100\n",
      "32/32 - 0s - loss: 0.3474\n",
      "Epoch 53/100\n",
      "32/32 - 0s - loss: 0.3460\n",
      "Epoch 54/100\n",
      "32/32 - 0s - loss: 0.3623\n",
      "Epoch 55/100\n",
      "32/32 - 0s - loss: 0.3369\n",
      "Epoch 56/100\n",
      "32/32 - 0s - loss: 0.3518\n",
      "Epoch 57/100\n",
      "32/32 - 0s - loss: 0.3599\n",
      "Epoch 58/100\n",
      "32/32 - 0s - loss: 0.3530\n",
      "Epoch 59/100\n",
      "32/32 - 0s - loss: 0.4084\n",
      "Epoch 60/100\n",
      "32/32 - 0s - loss: 0.3706\n",
      "Epoch 61/100\n",
      "32/32 - 0s - loss: 0.3825\n",
      "Epoch 62/100\n",
      "32/32 - 0s - loss: 0.3512\n",
      "Epoch 63/100\n",
      "32/32 - 0s - loss: 0.3561\n",
      "Epoch 64/100\n",
      "32/32 - 0s - loss: 0.3655\n",
      "Epoch 65/100\n",
      "32/32 - 0s - loss: 0.3482\n",
      "Epoch 66/100\n",
      "32/32 - 0s - loss: 0.3590\n",
      "Epoch 67/100\n",
      "32/32 - 0s - loss: 0.3610\n",
      "Epoch 68/100\n",
      "32/32 - 0s - loss: 0.3709\n",
      "Epoch 69/100\n",
      "32/32 - 0s - loss: 0.4205\n",
      "Epoch 70/100\n",
      "32/32 - 0s - loss: 0.3816\n",
      "Epoch 71/100\n",
      "32/32 - 0s - loss: 0.3554\n",
      "Epoch 72/100\n",
      "32/32 - 0s - loss: 0.3824\n",
      "Epoch 73/100\n",
      "32/32 - 0s - loss: 0.3491\n",
      "Epoch 74/100\n",
      "32/32 - 0s - loss: 0.3594\n",
      "Epoch 75/100\n",
      "32/32 - 0s - loss: 0.4019\n",
      "Epoch 76/100\n",
      "32/32 - 0s - loss: 0.3367\n",
      "Epoch 77/100\n",
      "32/32 - 0s - loss: 0.3531\n",
      "Epoch 78/100\n",
      "32/32 - 0s - loss: 0.3556\n",
      "Epoch 79/100\n",
      "32/32 - 0s - loss: 0.3562\n",
      "Epoch 80/100\n",
      "32/32 - 0s - loss: 0.3696\n",
      "Epoch 81/100\n",
      "32/32 - 0s - loss: 0.3551\n",
      "Epoch 82/100\n",
      "32/32 - 0s - loss: 0.3359\n",
      "Epoch 83/100\n",
      "32/32 - 0s - loss: 0.3608\n",
      "Epoch 84/100\n",
      "32/32 - 0s - loss: 0.3627\n",
      "Epoch 85/100\n",
      "32/32 - 0s - loss: 0.3695\n",
      "Epoch 86/100\n",
      "32/32 - 0s - loss: 0.3371\n",
      "Epoch 87/100\n",
      "32/32 - 0s - loss: 0.3700\n",
      "Epoch 88/100\n",
      "32/32 - 0s - loss: 0.3424\n",
      "Epoch 89/100\n",
      "32/32 - 0s - loss: 0.3452\n",
      "Epoch 90/100\n",
      "32/32 - 0s - loss: 0.3517\n",
      "Epoch 91/100\n",
      "32/32 - 0s - loss: 0.3502\n",
      "Epoch 92/100\n",
      "32/32 - 0s - loss: 0.3537\n",
      "Epoch 93/100\n",
      "32/32 - 0s - loss: 0.3659\n",
      "Epoch 94/100\n",
      "32/32 - 0s - loss: 0.3448\n",
      "Epoch 95/100\n",
      "32/32 - 0s - loss: 0.3626\n",
      "Epoch 96/100\n",
      "32/32 - 0s - loss: 0.3532\n",
      "Epoch 97/100\n",
      "32/32 - 0s - loss: 0.3552\n",
      "Epoch 98/100\n",
      "32/32 - 0s - loss: 0.3591\n",
      "Epoch 99/100\n",
      "32/32 - 0s - loss: 0.3510\n",
      "Epoch 100/100\n",
      "32/32 - 0s - loss: 0.3594\n"
     ]
    },
    {
     "data": {
      "text/plain": [
       "<tensorflow.python.keras.callbacks.History at 0x29095316dc0>"
      ]
     },
     "execution_count": 9,
     "metadata": {},
     "output_type": "execute_result"
    }
   ],
   "source": [
    "model.fit(training_data['inputs'], training_data['targets'], epochs=100, verbose=2)"
   ]
  },
  {
   "cell_type": "markdown",
   "metadata": {},
   "source": [
    ">**Comments:** \n",
    ">- Finally, I fit the model, by specifying the inputs and targets. if they are not otherwise specified the number of epochs (= iterations over the full dataset) will be 1 (a single epoch of training), so the number of epochs is 'kind of' mandatory, too. \n",
    ">- I prefer verbose=2 (meaning, one line per epochs) to verbose =1 (meaning, progress bar), or verbose =0 (meaning, silent- no output about the training is displayed)."
   ]
  },
  {
   "cell_type": "markdown",
   "metadata": {},
   "source": [
    "<a id='Extract1'></a>\n",
    "## 4. Extract the weights and bias\n",
    "Extracting the weight(s) and bias(es) of a model is not an essential step for the machine learning process. In fact, usually they would not tell much in a deep learning context. However, this simple example was set up to verify if the answers are correct."
   ]
  },
  {
   "cell_type": "code",
   "execution_count": 10,
   "metadata": {},
   "outputs": [
    {
     "data": {
      "text/plain": [
       "[array([[ 2.0166128],\n",
       "        [-2.9801621]], dtype=float32),\n",
       " array([4.9958825], dtype=float32)]"
      ]
     },
     "execution_count": 10,
     "metadata": {},
     "output_type": "execute_result"
    }
   ],
   "source": [
    "model.layers[0].get_weights()"
   ]
  },
  {
   "cell_type": "code",
   "execution_count": 11,
   "metadata": {},
   "outputs": [],
   "source": [
    "# I saved the weights and biases in separate variables for easier examination\n",
    "weights = model.layers[0].get_weights()[0]\n",
    "bias = model.layers[0].get_weights()[1]"
   ]
  },
  {
   "cell_type": "markdown",
   "metadata": {},
   "source": [
    "<a id='Extract2'></a>\n",
    "## 5. Extract the outputs (make predictions)\n"
   ]
  },
  {
   "cell_type": "code",
   "execution_count": 12,
   "metadata": {},
   "outputs": [],
   "source": [
    "predicted_target = model.predict_on_batch(training_data['inputs']).round(1)\n",
    "actual_target = training_data['targets'].round(1)"
   ]
  },
  {
   "cell_type": "markdown",
   "metadata": {},
   "source": [
    "> **Comments:** I predicted the target values in order to make use of the model. To make the values readable, I rounded the values. In practice, we predict the data using test dataset, which is not used for training. By displaying the actual targets (actual observed values), we can compare the outputs and the targets and evaluate how well the model works. \n"
   ]
  },
  {
   "cell_type": "markdown",
   "metadata": {},
   "source": [
    "<a id='Plot'></a>\n",
    "## 6. Plotting the data"
   ]
  },
  {
   "cell_type": "code",
   "execution_count": 13,
   "metadata": {},
   "outputs": [
    {
     "data": {
      "image/png": "[encoded data removed]",
      "text/plain": [
       "<Figure size 432x288 with 1 Axes>"
      ]
     },
     "metadata": {
      "needs_background": "light"
     },
     "output_type": "display_data"
    }
   ],
   "source": [
    "plt.plot(np.squeeze(model.predict_on_batch(training_data['inputs'])), np.squeeze(training_data['targets']))\n",
    "plt.xlabel('outputs')\n",
    "plt.ylabel('targets')\n",
    "plt.show()"
   ]
  },
  {
   "cell_type": "markdown",
   "metadata": {},
   "source": [
    ">**Comments:** The model is now optimized, so the outputs are calculated based on the last form of the model. I used 'np.squeeze' the arrays in order to fit them to what the plot function expects. Note that the visualisation is exactly the same as in the previous notebook. Since this analysis is the very basic Tensorflow, it does not show  the point of TensorFlow. "
   ]
  },
  {
   "cell_type": "code",
   "execution_count": null,
   "metadata": {},
   "outputs": [],
   "source": []
  }
 ],
 "metadata": {
  "kernelspec": {
   "display_name": "Python [conda env:py3-TF2.0]",
   "language": "python",
   "name": "conda-env-py3-TF2.0-py"
  },
  "language_info": {
   "codemirror_mode": {
    "name": "ipython",
    "version": 3
   },
   "file_extension": ".py",
   "mimetype": "text/x-python",
   "name": "python",
   "nbconvert_exporter": "python",
   "pygments_lexer": "ipython3",
   "version": "3.8.5"
  }
 },
 "nbformat": 4,
 "nbformat_minor": 2
}
